{
 "cells": [
  {
   "cell_type": "markdown",
   "id": "58c00943",
   "metadata": {},
   "source": [
    "Inheritance and polymepherism"
   ]
  },
  {
   "cell_type": "code",
   "execution_count": null,
   "id": "d54ec2b4",
   "metadata": {},
   "outputs": [
    {
     "name": "stdout",
     "output_type": "stream",
     "text": [
      "Phone Started\n",
      "Laptop Started\n"
     ]
    }
   ],
   "source": [
    "##INHERITANCE\n",
    "class Gadget:\n",
    "    def start(self):\n",
    "        print(\"Gadget Started\")\n",
    "\n",
    "class Phone(Gadget):\n",
    "    def start(self):\n",
    "        print(\"Phone Started\")\n",
    "\n",
    "class Laptop(Gadget):\n",
    "    def start(self):\n",
    "        print(\"Laptop Started\")\n",
    "\n",
    "\n",
    "gadgets = [Phone(), Laptop()]\n",
    "\n",
    "for gadget in gadgets:\n",
    "    gadget.start()\n",
    "\n",
    "\n",
    "\n",
    "\n",
    "##"
   ]
  },
  {
   "cell_type": "markdown",
   "id": "2549275f",
   "metadata": {},
   "source": [
    "class Smart phone had to inherit from all the three classes created first"
   ]
  },
  {
   "cell_type": "code",
   "execution_count": null,
   "id": "a3351177",
   "metadata": {},
   "outputs": [],
   "source": [
    "class Camera_Feature:\n",
    "    def take_photo(self):\n",
    "        print(\"Photo Taken\")\n",
    "\n",
    "class WifiEnabled:\n",
    "    def connect_wifi(self):\n",
    "        print(\"Connected to WiFI\")\n",
    "\n",
    "class SmartPhone(Phone, Camera_Feature, WifiEnabled):\n",
    "    def start(self):\n",
    "        print(\"SmartPhone is starting\")\n",
    "\n",
    "\n",
    "class SmartPrinter(Gadget, WifiEnabled):\n",
    "    def start(self):\n",
    "        print(\"SmartPrinter is starting\")\n",
    "\n",
    "devices = [SmartPhone(), SmartPrinter()]\n",
    "\n",
    "\n",
    "for device in devices:\n",
    "    device.start()\n",
    "    if isinstance(device, Camera_Feature):\n",
    "        device.take_photo()\n",
    "    if isinstance(device, WifiEnabled):\n",
    "        device.connect_wifi()\n",
    "    \n"
   ]
  },
  {
   "cell_type": "code",
   "execution_count": 4,
   "id": "a820703e",
   "metadata": {},
   "outputs": [
    {
     "name": "stdout",
     "output_type": "stream",
     "text": [
      "Hello from C\n"
     ]
    }
   ],
   "source": [
    "class A:\n",
    "    def greet(self):\n",
    "        return \"Hello from A\"\n",
    "\n",
    "\n",
    "class B(A):\n",
    "    def greet(self):\n",
    "        return \"Hello from B\"\n",
    "\n",
    "class C(A):\n",
    "    def greet(self):\n",
    "        return \"Hello from C\"\n",
    "\n",
    "\n",
    "\n",
    "class D(C,B):\n",
    "    pass\n",
    "\n",
    "d = D()\n",
    "print(d.greet())\n"
   ]
  },
  {
   "cell_type": "markdown",
   "id": "a8d2ad49",
   "metadata": {},
   "source": [
    "announce example"
   ]
  },
  {
   "cell_type": "code",
   "execution_count": null,
   "id": "39122428",
   "metadata": {},
   "outputs": [],
   "source": [
    "class mistik:\n",
    "    def transform(self):\n",
    "        return \"i am mistik\"\n",
    "\n",
    "class paul(mistik):\n",
    "    def transform(self):\n",
    "        return \"i am paul\"\n",
    "\n",
    "class favour(mistik):\n",
    "    def transform(self):\n",
    "        return \"i am favour\"\n",
    "\n",
    "\n",
    "class optimus(paul, favour):\n",
    "    pass\n",
    "\n",
    "o = optimus\n"
   ]
  },
  {
   "cell_type": "markdown",
   "id": "9e758231",
   "metadata": {},
   "source": [
    "example"
   ]
  },
  {
   "cell_type": "code",
   "execution_count": null,
   "id": "7ad335fa",
   "metadata": {},
   "outputs": [],
   "source": []
  }
 ],
 "metadata": {
  "kernelspec": {
   "display_name": "Python 3",
   "language": "python",
   "name": "python3"
  },
  "language_info": {
   "codemirror_mode": {
    "name": "ipython",
    "version": 3
   },
   "file_extension": ".py",
   "mimetype": "text/x-python",
   "name": "python",
   "nbconvert_exporter": "python",
   "pygments_lexer": "ipython3",
   "version": "3.13.7"
  }
 },
 "nbformat": 4,
 "nbformat_minor": 5
}
